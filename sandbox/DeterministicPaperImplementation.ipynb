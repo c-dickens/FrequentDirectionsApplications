{
 "cells": [
  {
   "cell_type": "markdown",
   "metadata": {},
   "source": [
    "# Frequent Directions\n",
    "We look at the implementation from [deterministic ridge regression](https://arxiv.org/pdf/2002.02013.pdf)"
   ]
  },
  {
   "cell_type": "code",
   "execution_count": 696,
   "metadata": {},
   "outputs": [],
   "source": [
    "import numpy as np\n",
    "from numpy.linalg import svd, inv, pinv\n",
    "from sklearn.linear_model import Ridge\n",
    "from scipy import linalg\n",
    "import datetime\n",
    "import matplotlib.pyplot as plt\n",
    "%matplotlib inline\n",
    "import sys\n",
    "sys.path.append('..')\n",
    "from data_factory import DataFactory\n",
    "from math import floor\n",
    "from utils import sparse_projection\n",
    "np.set_printoptions(precision=4)\n",
    "%config Completer.use_jedi = False"
   ]
  },
  {
   "cell_type": "code",
   "execution_count": 376,
   "metadata": {},
   "outputs": [],
   "source": [
    "n = 2**10\n",
    "d=2**8\n",
    "eff_rank = int(floor(0.25*d + 0.5))\n",
    "ds = DataFactory(n=n,d=d,effective_rank=eff_rank)\n",
    "X,y,w0 = ds.shi_phillips_synthetic()\n",
    "X /= np.linalg.norm(X,ord='fro')"
   ]
  },
  {
   "cell_type": "code",
   "execution_count": 377,
   "metadata": {},
   "outputs": [],
   "source": [
    "class FD():\n",
    "\n",
    "    def __init__(self, d, ell=8):\n",
    "        self.d = d\n",
    "        self.reset(ell=ell)\n",
    "\n",
    "    def reset(self, ell=None):\n",
    "        if ell is not None:\n",
    "            self.ell = ell\n",
    "        self.X = np.zeros((self.ell, self.d))\n",
    "        self.Vt = np.zeros((self.ell, self.d))\n",
    "        self.s2 = np.zeros(self.ell)  # Sigma^2\n",
    "\n",
    "    def feed(self, X):\n",
    "        self.X = np.concatenate((self.X, X), axis=0)\n",
    "        # TODO: try sklearn.decomposition.TruncatedSVD\n",
    "        try:\n",
    "            _, s, self.Vt = svd(self.X, full_matrices=False)\n",
    "        except np.linalg.LinAlgError:\n",
    "            np.save(f'./np_svd_fail{datetime.datetime.now().strftime(\"%I:%M%p on %B %d, %Y\")}.npy', self.X)\n",
    "            _, s, self.Vt = linalg.svd(self.X, full_matrices=False, lapack_driver='gesvd')\n",
    "        self.s2 = s**2  # Sigma^2\n",
    "        self._shrink()  # shrink self.s2 and self.Vt\n",
    "        self.X = self.Vt * np.sqrt(self.s2).reshape(-1, 1)\n",
    "        return self\n",
    "\n",
    "    def result(self):\n",
    "        return self.X, self.s2, self.Vt\n",
    "    \n",
    "class FFD(FD):\n",
    "\n",
    "    def _shrink(self):\n",
    "        self.s2 = self.s2[:self.ell] - self.s2[self.ell]\n",
    "        self.Vt = self.Vt[:self.ell]\n"
   ]
  },
  {
   "cell_type": "code",
   "execution_count": 378,
   "metadata": {},
   "outputs": [],
   "source": [
    "sketcher = FFD(d,ell=16)\n",
    "sketcher.feed(X)\n",
    "B, s2, vt = sketcher.result()"
   ]
  },
  {
   "cell_type": "code",
   "execution_count": 379,
   "metadata": {},
   "outputs": [
    {
     "data": {
      "text/plain": [
       "(16, 256)"
      ]
     },
     "execution_count": 379,
     "metadata": {},
     "output_type": "execute_result"
    }
   ],
   "source": [
    "B.shape"
   ]
  },
  {
   "cell_type": "code",
   "execution_count": 380,
   "metadata": {},
   "outputs": [
    {
     "name": "stdout",
     "output_type": "stream",
     "text": [
      "0.02571931772963339\n"
     ]
    }
   ],
   "source": [
    "cov = X.T@X\n",
    "cov_est = B.T@B\n",
    "err = np.linalg.norm(cov - cov_est,ord=2)\n",
    "print(err)"
   ]
  },
  {
   "cell_type": "code",
   "execution_count": 381,
   "metadata": {},
   "outputs": [
    {
     "name": "stdout",
     "output_type": "stream",
     "text": [
      "Dimension:8\tError:0.0331\tError norm:1.0000\n",
      "Dimension:16\tError:0.0257\tError norm:1.0000\n",
      "Dimension:32\tError:0.0118\tError norm:1.0000\n",
      "Dimension:64\tError:0.0006\tError norm:1.0000\n",
      "Dimension:128\tError:0.0000\tError norm:1.0000\n"
     ]
    }
   ],
   "source": [
    "sketch_dimensions = np.array([8,16,32,64,128])\n",
    "errors = np.zeros_like(sketch_dimensions,dtype=float)\n",
    "error_bound = np.zeros_like(sketch_dimensions,dtype=float)\n",
    "covariance = X.T@X\n",
    "frob_norm = np.linalg.norm(X,ord='fro')**2\n",
    "U,S,Vt = np.linalg.svd(X,full_matrices=False)\n",
    "for i, si in enumerate(sketch_dimensions):\n",
    "    #print(f'Testing dimenion {si}')\n",
    "    sketcher = FFD(d,ell=si)\n",
    "    sketcher.feed(X)\n",
    "    B, s2, vt = sketcher.result()\n",
    "    \n",
    "    # Error bound wrt to k\n",
    "    k = 0#si - 1\n",
    "    Ak = U[:,:k]@(np.diag(S[:k])@Vt[:k,:])\n",
    "    error_norm = np.linalg.norm(X - Ak,ord='fro')**2\n",
    "    cov_error = np.linalg.norm(B.T@B - covariance,ord=2)\n",
    "    errors[i] = cov_error/error_norm\n",
    "    error_bound[i] = 1./(si - k)\n",
    "    \n",
    "    print(f'Dimension:{si}\\tError:{cov_error:.4f}\\tError norm:{error_norm:.4f}')"
   ]
  },
  {
   "cell_type": "code",
   "execution_count": 382,
   "metadata": {},
   "outputs": [
    {
     "data": {
      "text/plain": [
       "Text(0, 0.5, '$||A^TA - B^TB||_F^2 / ||A^TA||_F^2$')"
      ]
     },
     "execution_count": 382,
     "metadata": {},
     "output_type": "execute_result"
    },
    {
     "data": {
      "image/png": "[encoded data removed]",
      "text/plain": [
       "<Figure size 432x288 with 1 Axes>"
      ]
     },
     "metadata": {
      "needs_background": "light"
     },
     "output_type": "display_data"
    }
   ],
   "source": [
    "fig,ax = plt.subplots()\n",
    "ax.plot(sketch_dimensions, errors,label='Distortion')\n",
    "#ax.plot(sketch_dimensions, 1./sketch_dimensions,label='Bound')\n",
    "ax.plot(sketch_dimensions, error_bound,label='Bound')\n",
    "ax.legend()\n",
    "ax.set_yscale('log')\n",
    "ax.set_xlabel('Sketch Dimension')\n",
    "ax.set_ylabel('$||A^TA - B^TB||_F^2 / ||A^TA||_F^2$')"
   ]
  },
  {
   "cell_type": "code",
   "execution_count": 383,
   "metadata": {},
   "outputs": [
    {
     "data": {
      "text/plain": [
       "array([3.3053e-02, 2.5719e-02, 1.1821e-02, 6.3816e-04, 3.5181e-09])"
      ]
     },
     "execution_count": 383,
     "metadata": {},
     "output_type": "execute_result"
    }
   ],
   "source": [
    "errors"
   ]
  },
  {
   "cell_type": "code",
   "execution_count": 384,
   "metadata": {},
   "outputs": [],
   "source": [
    "class myFD:\n",
    "    def __init__(self,d,m=8):\n",
    "        '''\n",
    "        Class wrapper for all FD-type methods\n",
    "        '''\n",
    "        self.d = d\n",
    "        self.reset(sketch_dim=m)\n",
    "        self.delta = 0. # For RFD\n",
    "        \n",
    "    def reset(self,sketch_dim=None):\n",
    "        '''\n",
    "        Initialises or resets the sketch parameters\n",
    "        '''\n",
    "        if sketch_dim is not None:\n",
    "            self.sketch_dim = sketch_dim\n",
    "        self.sketch = np.zeros((self.sketch_dim,self.d),dtype=float)\n",
    "        self.Vt = np.zeros((self.sketch_dim,self.d),dtype=float)\n",
    "        self.S2 = np.zeros(self.sketch_dim,dtype=float) # singular values squared\n",
    "        \n",
    "    def fit(self,X,batch_size=1):\n",
    "        '''\n",
    "        Fits the FD transform to dataset X\n",
    "        '''\n",
    "        #self.sketch = np.concatenate()\n",
    "        n = X.shape[0]\n",
    "        count = 0\n",
    "        extra_space = np.zeros_like(self.sketch)\n",
    "        head = 0\n",
    "        tail = batch_size\n",
    "        for i in range(0,n,batch_size):\n",
    "            batch = X[i:i+batch_size,:]\n",
    "            aux = np.concatenate((self.sketch,batch),axis=0)\n",
    "            #print(f'Start:{i}\\tStop{i+batch_size}')\n",
    "            #print(batch.shape)\n",
    "            try:\n",
    "                _, s, self.Vt = svd(aux, full_matrices=False)\n",
    "            except np.linalg.LinAlgError:\n",
    "                np.save(f'./np_svd_fail{datetime.datetime.now().strftime(\"%I:%M%p on %B %d, %Y\")}.npy', aux)\n",
    "                _, s, self.Vt = linalg.svd(aux, full_matrices=False, lapack_driver='gesvd')\n",
    "            self.S2 = s**2 \n",
    "            self._shrink()  # shrink self.s2 and self.Vt\n",
    "            self.sketch = self.Vt * np.sqrt(self.S2).reshape(-1, 1)\n",
    "        \n",
    "    def get(self):\n",
    "        return self.sketch, self.S2, self.Vt\n",
    "        \n",
    "            \n",
    "class FastFrequentDirections(myFD):\n",
    "    '''\n",
    "    Implements the fast version of FD by doubling space\n",
    "    '''\n",
    "    \n",
    "    def _shrink(self):\n",
    "        self.S2 = self.S2[:self.sketch_dim] - self.S2[self.sketch_dim]\n",
    "        self.Vt = self.Vt[:self.sketch_dim]\n",
    "        \n",
    "class iSVD(myFD):\n",
    "    '''\n",
    "    Implements the ***heuristic*** incremental SVD\n",
    "    '''\n",
    "    \n",
    "    def _shrink(self):\n",
    "        self.S2 = self.S2[:self.sketch_dim]\n",
    "        self.Vt = self.Vt[:self.sketch_dim]\n",
    "        \n",
    "class RFD(myFD):\n",
    "    '''\n",
    "    Implements the RFD version of FD \n",
    "    '''\n",
    "    \n",
    "    def _shrink(self):\n",
    "        self.delta += self.S2[self.sketch_dim]/2.\n",
    "        self.S2 = self.S2[:self.sketch_dim] - self.S2[self.sketch_dim]\n",
    "        self.Vt = self.Vt[:self.sketch_dim]"
   ]
  },
  {
   "cell_type": "code",
   "execution_count": 385,
   "metadata": {},
   "outputs": [],
   "source": [
    "batch_size = 32\n",
    "my_fd = FastFrequentDirections(X.shape[1],m=batch_size)\n",
    "my_fd.fit(X,batch_size=batch_size)"
   ]
  },
  {
   "cell_type": "code",
   "execution_count": 386,
   "metadata": {},
   "outputs": [
    {
     "data": {
      "text/plain": [
       "(32, 256)"
      ]
     },
     "execution_count": 386,
     "metadata": {},
     "output_type": "execute_result"
    }
   ],
   "source": [
    "my_fd.sketch.shape"
   ]
  },
  {
   "cell_type": "code",
   "execution_count": 387,
   "metadata": {},
   "outputs": [
    {
     "data": {
      "text/plain": [
       "array([[ 0.0292,  0.0291,  0.0289, ..., -0.0057, -0.0039, -0.002 ],\n",
       "       [-0.0154, -0.0151, -0.0142, ..., -0.0038, -0.0025, -0.0013],\n",
       "       [-0.0125, -0.0121, -0.011 , ...,  0.0042,  0.0028,  0.0014],\n",
       "       ...,\n",
       "       [-0.0008, -0.0008, -0.0009, ..., -0.0017, -0.0014, -0.0008],\n",
       "       [ 0.0024,  0.0022,  0.0014, ...,  0.0009,  0.0007,  0.0004],\n",
       "       [ 0.0004,  0.0003,  0.0002, ..., -0.0004, -0.0003, -0.0001]])"
      ]
     },
     "execution_count": 387,
     "metadata": {},
     "output_type": "execute_result"
    }
   ],
   "source": [
    "my_fd.sketch"
   ]
  },
  {
   "cell_type": "code",
   "execution_count": 388,
   "metadata": {},
   "outputs": [],
   "source": [
    "B = my_fd.sketch"
   ]
  },
  {
   "cell_type": "code",
   "execution_count": 389,
   "metadata": {},
   "outputs": [
    {
     "data": {
      "text/plain": [
       "0.016896277316357212"
      ]
     },
     "execution_count": 389,
     "metadata": {},
     "output_type": "execute_result"
    }
   ],
   "source": [
    "np.linalg.norm(B.T@B - X.T@X,ord=2)/np.linalg.norm(X,ord='fro')**2"
   ]
  },
  {
   "cell_type": "code",
   "execution_count": 390,
   "metadata": {},
   "outputs": [
    {
     "name": "stdout",
     "output_type": "stream",
     "text": [
      "Dimension:16\tError norm:0.9179\n",
      "FD:0.0415\tRFD:0.0415\tiSVD:0.0335\n",
      "Dimension:32\tError norm:0.9179\n",
      "FD:0.0184\tRFD:0.0184\tiSVD:0.0162\n",
      "Dimension:64\tError norm:0.9179\n",
      "FD:0.0008\tRFD:0.0008\tiSVD:0.0007\n",
      "Dimension:128\tError norm:0.9179\n",
      "FD:0.0000\tRFD:0.0000\tiSVD:0.0000\n",
      "Dimension:200\tError norm:0.9179\n",
      "FD:0.0000\tRFD:0.0000\tiSVD:0.0000\n"
     ]
    }
   ],
   "source": [
    "sketch_dimensions = np.array([16,32,64,128,200])\n",
    "error_bound = np.zeros_like(sketch_dimensions,dtype=float)\n",
    "fd_error_bound = np.zeros_like(sketch_dimensions,dtype=float)\n",
    "rfd_error_bound = np.zeros_like(sketch_dimensions,dtype=float)\n",
    "isvd_error_bound = np.zeros_like(sketch_dimensions,dtype=float)\n",
    "\n",
    "covariance = X.T@X\n",
    "frob_norm = np.linalg.norm(X,ord='fro')**2\n",
    "U,S,Vt = np.linalg.svd(X,full_matrices=False)\n",
    "for i, si in enumerate(sketch_dimensions):\n",
    "    # Error bound wrt to k\n",
    "    k = 2\n",
    "    Ak = U[:,:k]@(np.diag(S[:k])@Vt[:k,:])\n",
    "    error_norm = np.linalg.norm(X - Ak,ord='fro')**2\n",
    "    print(f'Dimension:{si}\\tError norm:{error_norm:.4f}')\n",
    "    error_bound[i] = 1./(si - k)\n",
    "    \n",
    "    # FFD\n",
    "    sketcher = FastFrequentDirections(X.shape[1],m=si)\n",
    "    sketcher.fit(X,batch_size=si)\n",
    "    B = sketcher.sketch\n",
    "    fd_cov_error = np.linalg.norm(B.T@B - covariance,ord=2)\n",
    "    \n",
    "    # RFD\n",
    "    rfd_sketcher = RFD(X.shape[1],m=si)\n",
    "    rfd_sketcher.fit(X,batch_size=si)\n",
    "    rB = rfd_sketcher.sketch\n",
    "    rfd_cov_error = np.linalg.norm(rB.T@rB - covariance,ord=2)\n",
    "    \n",
    "    # iSVD\n",
    "    isvd_sketcher = iSVD(X.shape[1],m=si)\n",
    "    isvd_sketcher.fit(X,batch_size=si)\n",
    "    iB = isvd_sketcher.sketch\n",
    "    isvd_cov_error = np.linalg.norm(iB.T@iB - covariance,ord=2)\n",
    "    \n",
    "\n",
    "    \n",
    "    fd_error_bound[i] = fd_cov_error/error_norm\n",
    "    rfd_error_bound[i] = rfd_cov_error/error_norm\n",
    "    isvd_error_bound[i] = isvd_cov_error/error_norm\n",
    "\n",
    "    print(f'FD:{(fd_cov_error/error_norm):.4f}\\tRFD:{(rfd_cov_error/error_norm):.4f}\\tiSVD:{(isvd_cov_error/error_norm):.4f}')"
   ]
  },
  {
   "cell_type": "code",
   "execution_count": 391,
   "metadata": {},
   "outputs": [
    {
     "data": {
      "text/plain": [
       "Text(0, 0.5, '$||A^TA - B^TB||_F^2 / ||A^TA||_F^2$')"
      ]
     },
     "execution_count": 391,
     "metadata": {},
     "output_type": "execute_result"
    },
    {
     "data": {
      "image/png": "[encoded data removed]",
      "text/plain": [
       "<Figure size 432x288 with 1 Axes>"
      ]
     },
     "metadata": {
      "needs_background": "light"
     },
     "output_type": "display_data"
    }
   ],
   "source": [
    "fig,ax = plt.subplots()\n",
    "ax.plot(sketch_dimensions, fd_error_bound,label='FD')\n",
    "ax.plot(sketch_dimensions, rfd_error_bound,label='RFD')\n",
    "ax.plot(sketch_dimensions, isvd_error_bound,label='iSVD')\n",
    "#ax.plot(sketch_dimensions, 1./sketch_dimensions,label='Bound')\n",
    "ax.plot(sketch_dimensions, error_bound,label='Bound')\n",
    "ax.legend()\n",
    "ax.set_yscale('log')\n",
    "ax.set_xlabel('Sketch Dimension')\n",
    "ax.set_ylabel('$||A^TA - B^TB||_F^2 / ||A^TA||_F^2$')"
   ]
  },
  {
   "cell_type": "code",
   "execution_count": 392,
   "metadata": {},
   "outputs": [
    {
     "data": {
      "text/plain": [
       "array([[4.1506e-02, 4.1506e-02, 3.3484e-02],\n",
       "       [1.8408e-02, 1.8408e-02, 1.6244e-02],\n",
       "       [7.9283e-04, 7.9283e-04, 7.2864e-04],\n",
       "       [3.9977e-09, 3.9977e-09, 3.8528e-09],\n",
       "       [3.2649e-16, 3.2649e-16, 3.1265e-16]])"
      ]
     },
     "execution_count": 392,
     "metadata": {},
     "output_type": "execute_result"
    }
   ],
   "source": [
    "np.c_[fd_error_bound,rfd_error_bound,isvd_error_bound]"
   ]
  },
  {
   "cell_type": "markdown",
   "metadata": {},
   "source": [
    "### Ridge Regression\n",
    "Now that we have the sketch working well we want to use it for regression."
   ]
  },
  {
   "cell_type": "code",
   "execution_count": 393,
   "metadata": {},
   "outputs": [],
   "source": [
    "class FDRidge:\n",
    "    \n",
    "    def __init__(self, fd_dim:int,fd_mode='FD',gamma=1.0):\n",
    "        \"\"\"\n",
    "        Approximate ridge regression using the FD sketch.\n",
    "\n",
    "        fd_dim (int) - the number of rows retained in the FD sketch.\n",
    "        fd_mode (str) : mode for frequent directions FD or RFD.\n",
    "        alpha : float - the regularisation parameter for ridge regression.\n",
    "        \"\"\"\n",
    "        self.fd_dim       = fd_dim\n",
    "        self.fd_mode      = fd_mode\n",
    "        self.gamma        = gamma\n",
    "        self.is_fitted    = False\n",
    "\n",
    "    def fit(self,X,y):\n",
    "        '''\n",
    "        Fits the ridge regression model on data X with targets y\n",
    "        '''\n",
    "        d = X.shape[1]\n",
    "        # 1. Sketch the data\n",
    "        sketcher = FastFrequentDirections(X.shape[1],m=self.fd_dim)\n",
    "        sketcher.fit(X,batch_size=self.fd_dim)\n",
    "        B = sketcher.sketch\n",
    "        H = B.T@B + self.gamma*np.eye(d)\n",
    "        self.coef_ = np.linalg.solve(H, X.T@y)\n",
    "        \n",
    "    def iterate(self,X,y,iterations=10):\n",
    "        '''\n",
    "        Fits the iterated ridge model with FD\n",
    "        '''\n",
    "        d = X.shape[1]\n",
    "        w = np.zeros((d,1),dtype=float)\n",
    "        all_w = np.zeros((d,iterations))\n",
    "        XTy = (X.T@y).reshape(-1,1)\n",
    "        \n",
    "        # Fit the FD\n",
    "        sketcher = FastFrequentDirections(X.shape[1],m=self.fd_dim)\n",
    "        sketcher.fit(X,batch_size=self.fd_dim)\n",
    "        B = sketcher.sketch\n",
    "        H = B.T@B + self.gamma*np.eye(d)\n",
    "        H_inv = np.linalg.pinv(H)\n",
    "        for it in range(iterations):\n",
    "            grad = X.T@(X@w) + self.gamma*w - XTy\n",
    "            w += - H_inv@grad\n",
    "            all_w[:,it] = np.squeeze(w)\n",
    "        return np.squeeze(w), all_w\n",
    "    \n",
    "    def get_bias(self,X,w0):\n",
    "        '''\n",
    "        Returns the bias of the estimate\n",
    "        '''\n",
    "        sketcher = FastFrequentDirections(X.shape[1],m=self.fd_dim)\n",
    "        sketcher.fit(X,batch_size=self.fd_dim)\n",
    "        B = sketcher.sketch\n",
    "        H = B.T@B + self.gamma*np.eye(d)\n",
    "        return np.linalg.pinv(H)@(X.T@(X@w0)) - w0\n",
    "    \n",
    "        "
   ]
  },
  {
   "cell_type": "code",
   "execution_count": 394,
   "metadata": {},
   "outputs": [],
   "source": [
    "gamma = 1024\n",
    "fdr = FDRidge(fd_dim=64,gamma=gamma)\n",
    "fdr.fit(X,y)\n",
    "x_fd = fdr.coef_"
   ]
  },
  {
   "cell_type": "code",
   "execution_count": 396,
   "metadata": {},
   "outputs": [
    {
     "name": "stdout",
     "output_type": "stream",
     "text": [
      "2.6059045479598724e-17\n"
     ]
    }
   ],
   "source": [
    "H = X.T@X + gamma*np.eye(d)\n",
    "x_opt = np.linalg.solve(H,X.T@y)\n",
    "\n",
    "clf = Ridge(alpha=gamma,fit_intercept=False)\n",
    "clf.fit(X,y)\n",
    "x_skl = clf.coef_\n",
    "print(np.linalg.norm(x_skl - x_opt))"
   ]
  },
  {
   "cell_type": "code",
   "execution_count": 397,
   "metadata": {},
   "outputs": [],
   "source": [
    "#np.c_[x_skl,x_opt,x_fd]"
   ]
  },
  {
   "cell_type": "code",
   "execution_count": 398,
   "metadata": {},
   "outputs": [
    {
     "data": {
      "text/plain": [
       "7.104752802784134e-07"
      ]
     },
     "execution_count": 398,
     "metadata": {},
     "output_type": "execute_result"
    }
   ],
   "source": [
    "np.linalg.norm(x_opt - x_fd)/np.linalg.norm(x_opt)"
   ]
  },
  {
   "cell_type": "code",
   "execution_count": 399,
   "metadata": {},
   "outputs": [],
   "source": [
    "fdr = FDRidge(fd_dim=88,gamma=gamma)\n",
    "fdr.fit(X,y)\n",
    "x_ihs_fd, all_x = fdr.iterate(X,y,10)\n",
    "x_fd = fdr.coef_"
   ]
  },
  {
   "cell_type": "code",
   "execution_count": 400,
   "metadata": {},
   "outputs": [
    {
     "data": {
      "text/plain": [
       "1.897345472152122e-17"
      ]
     },
     "execution_count": 400,
     "metadata": {},
     "output_type": "execute_result"
    }
   ],
   "source": [
    "np.linalg.norm(x_ihs_fd - x_opt)"
   ]
  },
  {
   "cell_type": "code",
   "execution_count": 401,
   "metadata": {},
   "outputs": [],
   "source": [
    "ihs_fd_errors = [np.linalg.norm(all_x[:,_] - x_opt)/np.linalg.norm(x_opt) for _ in range(all_x.shape[1])]"
   ]
  },
  {
   "cell_type": "code",
   "execution_count": 402,
   "metadata": {},
   "outputs": [
    {
     "data": {
      "text/plain": [
       "[1.8040869296048362e-08,\n",
       " 6.529954403275437e-16,\n",
       " 6.15698643135539e-16,\n",
       " 6.15698643135539e-16,\n",
       " 6.15698643135539e-16,\n",
       " 6.15698643135539e-16,\n",
       " 6.15698643135539e-16,\n",
       " 6.15698643135539e-16,\n",
       " 6.15698643135539e-16,\n",
       " 6.15698643135539e-16]"
      ]
     },
     "execution_count": 402,
     "metadata": {},
     "output_type": "execute_result"
    }
   ],
   "source": [
    "ihs_fd_errors"
   ]
  },
  {
   "cell_type": "code",
   "execution_count": 403,
   "metadata": {},
   "outputs": [
    {
     "data": {
      "image/png": "[encoded data removed]",
      "text/plain": [
       "<Figure size 900x600 with 1 Axes>"
      ]
     },
     "metadata": {
      "needs_background": "light"
     },
     "output_type": "display_data"
    }
   ],
   "source": [
    "fig,ax = plt.subplots(dpi=150)\n",
    "ax.plot(ihs_fd_errors)\n",
    "ax.set_yscale('log')"
   ]
  },
  {
   "cell_type": "markdown",
   "metadata": {},
   "source": [
    "## Bias variance tradeoff"
   ]
  },
  {
   "cell_type": "code",
   "execution_count": 680,
   "metadata": {},
   "outputs": [],
   "source": [
    "n = 2**10\n",
    "d=2**8\n",
    "eff_rank = int(floor(0.25*d + 0.5))\n",
    "ds = DataFactory(n=n,d=d,effective_rank=eff_rank)\n",
    "X,y,w0 = ds.shi_phillips_synthetic()\n",
    "X /= np.linalg.norm(X,ord='fro')"
   ]
  },
  {
   "cell_type": "code",
   "execution_count": 723,
   "metadata": {},
   "outputs": [],
   "source": [
    "gamma = 512.\n",
    "H = X.T@X + gamma*np.eye(d)\n",
    "x_opt = np.linalg.solve(H,X.T@y)\n",
    "opt_bias = (gamma**2)*np.linalg.norm(np.linalg.pinv(H)@w0)**2"
   ]
  },
  {
   "cell_type": "code",
   "execution_count": 724,
   "metadata": {},
   "outputs": [
    {
     "data": {
      "text/plain": [
       "0.9999733854701851"
      ]
     },
     "execution_count": 724,
     "metadata": {},
     "output_type": "execute_result"
    }
   ],
   "source": [
    "opt_bias"
   ]
  },
  {
   "cell_type": "code",
   "execution_count": 725,
   "metadata": {},
   "outputs": [],
   "source": [
    "fdr = FDRidge(fd_dim=150,gamma=gamma)\n",
    "fdr.fit(X,y)\n",
    "x_ihs_fd, all_x = fdr.iterate(X,y,10)\n",
    "x_fd = fdr.coef_\n",
    "fd_bias = fdr.get_bias(X,w0)"
   ]
  },
  {
   "cell_type": "code",
   "execution_count": 726,
   "metadata": {},
   "outputs": [
    {
     "name": "stdout",
     "output_type": "stream",
     "text": [
      "FD bias: 0.9999733854701858\n",
      "Error to opt:  1.6544498977470353e-14\n"
     ]
    }
   ],
   "source": [
    "fd_bias_sq = np.linalg.norm(fd_bias)**2\n",
    "print('FD bias:',fd_bias_sq)\n",
    "print('Error to opt: ', np.linalg.norm(x_fd-x_opt)/np.linalg.norm(x_opt))"
   ]
  },
  {
   "cell_type": "markdown",
   "metadata": {},
   "source": [
    "We selected parameters $\\gamma = 1024$ and $m=150$. This yields $c = 1 - \\frac{1}{\\gamma m}$"
   ]
  },
  {
   "cell_type": "code",
   "execution_count": 685,
   "metadata": {},
   "outputs": [
    {
     "name": "stdout",
     "output_type": "stream",
     "text": [
      "c =  0.5733333333333333\n"
     ]
    }
   ],
   "source": [
    "mm = 150\n",
    "c = 1. - 1./(gamma*mm)\n",
    "print('c = ', c)"
   ]
  },
  {
   "cell_type": "code",
   "execution_count": 686,
   "metadata": {},
   "outputs": [
    {
     "name": "stdout",
     "output_type": "stream",
     "text": [
      "Lower:0.2520746674\tFD:0.7668577632\t\tUpper:2.3329231574\n"
     ]
    }
   ],
   "source": [
    "upper_bound = (1./c**2)*opt_bias\n",
    "lower_bound = (c**2)*opt_bias\n",
    "print(f'Lower:{lower_bound:.10f}\\tFD:{fd_bias_sq:.10f}\\t\\tUpper:{upper_bound:.10f}')\n",
    "assert lower_bound < fd_bias_sq\n",
    "assert upper_bound > fd_bias_sq"
   ]
  },
  {
   "cell_type": "code",
   "execution_count": null,
   "metadata": {},
   "outputs": [],
   "source": []
  },
  {
   "cell_type": "code",
   "execution_count": null,
   "metadata": {},
   "outputs": [],
   "source": []
  },
  {
   "cell_type": "code",
   "execution_count": 694,
   "metadata": {},
   "outputs": [
    {
     "name": "stderr",
     "output_type": "stream",
     "text": [
      "/Users/charlied/opt/anaconda3/lib/python3.7/site-packages/ipykernel_launcher.py:25: RuntimeWarning: divide by zero encountered in double_scalars\n"
     ]
    },
    {
     "name": "stdout",
     "output_type": "stream",
     "text": [
      "γ:0.01562  c:0.00000\tOPT:0.76686  Lower:0.00000  Upper:inf  FD:0.76368 SE:0.01782\n",
      "γ:0.03125  c:0.50000\tOPT:0.81898  Lower:0.20474  Upper:3.27591  FD:0.81722 SE:0.01192\n",
      "γ:0.06250  c:0.75000\tOPT:0.87280  Lower:0.49095  Upper:1.55165  FD:0.87196 SE:0.00761\n",
      "γ:0.12500  c:0.87500\tOPT:0.91980  Lower:0.70422  Upper:1.20137  FD:0.91946 SE:0.00451\n",
      "γ:0.25000  c:0.93750\tOPT:0.95381  Lower:0.83831  Upper:1.08522  FD:0.95370 SE:0.00251\n",
      "γ:0.50000  c:0.96875\tOPT:0.97500  Lower:0.91501  Upper:1.03892  FD:0.97497 SE:0.00133\n",
      "γ:1.00000  c:0.98438\tOPT:0.98696  Lower:0.95636  Upper:1.01854  FD:0.98695 SE:0.00069\n",
      "γ:2.00000  c:0.99219\tOPT:0.99334  Lower:0.97788  Upper:1.00904  FD:0.99333 SE:0.00035\n",
      "γ:4.00000  c:0.99609\tOPT:0.99663  Lower:0.98886  Upper:1.00446  FD:0.99663 SE:0.00018\n",
      "γ:8.00000  c:0.99805\tOPT:0.99831  Lower:0.99441  Upper:1.00222  FD:0.99831 SE:0.00009\n",
      "γ:16.00000  c:0.99902\tOPT:0.99915  Lower:0.99720  Upper:1.00110  FD:0.99915 SE:0.00004\n",
      "γ:32.00000  c:0.99951\tOPT:0.99957  Lower:0.99860  Upper:1.00055  FD:0.99957 SE:0.00002\n",
      "γ:64.00000  c:0.99976\tOPT:0.99979  Lower:0.99930  Upper:1.00028  FD:0.99979 SE:0.00001\n"
     ]
    }
   ],
   "source": [
    "mm = 64#fdr.sketch.shape[0]\n",
    "all_gammas = np.array([2**_ for _ in [-8,-7,-6,-5,-4,-3,-2,-1,0,1,2,3,4,5,6]])\n",
    "H = X.T@X\n",
    "opt_bias = np.zeros_like(all_gammas,dtype=float)\n",
    "lower_bound = np.zeros_like(opt_bias)\n",
    "upper_bound = np.zeros_like(opt_bias)\n",
    "fd_bias_vals = np.zeros_like(opt_bias)\n",
    "for i,g in enumerate(all_gammas):\n",
    "    Hg = H + g*np.eye(d)\n",
    "    x_opt = np.linalg.solve(Hg,X.T@y)\n",
    "    bias_g = (g**2)*np.linalg.norm(np.linalg.pinv(Hg)@w0)**2 #np.linalg.norm(x_opt - w0)**2 #\n",
    "    #print(bias_g)\n",
    "    \n",
    "    # Sketch\n",
    "    fdr = FDRidge(fd_dim=mm,gamma=g)\n",
    "    fdr.fit(X,y)\n",
    "    fd_bias = fdr.get_bias(X,w0) \n",
    "    err2opt = np.linalg.norm(fdr.coef_ - x_opt)/np.linalg.norm(x_opt)\n",
    "    fd_bias_sq = np.linalg.norm(fd_bias)**2 #np.linalg.norm(fdr.coef_ - w0)**2 #\n",
    "    \n",
    "    # Bounds \n",
    "    c = 1. - 1./(g*mm)\n",
    "    if c < 0:\n",
    "        continue\n",
    "    upper = (1./c**2)*bias_g\n",
    "    lower = (c**2)*bias_g\n",
    "    opt_bias[i] = bias_g\n",
    "    lower_bound[i] = lower \n",
    "    upper_bound[i] = upper\n",
    "    fd_bias_vals[i] = fd_bias_sq\n",
    "    print(f'γ:{g:.5f}  c:{c:.5f}\\tOPT:{bias_g:.5f}  Lower:{lower:.5f}  Upper:{upper:.5f}  FD:{fd_bias_sq:.5f} SE:{err2opt:.5f}')\n",
    "    if (fd_bias_sq < lower) or (fd_bias_sq > upper):\n",
    "        print('⚠️ - BOUND NOT MET 🚫 ')"
   ]
  },
  {
   "cell_type": "code",
   "execution_count": 695,
   "metadata": {},
   "outputs": [
    {
     "data": {
      "text/plain": [
       "Text(0, 0.5, 'Bias Squared')"
      ]
     },
     "execution_count": 695,
     "metadata": {},
     "output_type": "execute_result"
    },
    {
     "data": {
      "image/png": "[encoded data removed]",
      "text/plain": [
       "<Figure size 750x500 with 1 Axes>"
      ]
     },
     "metadata": {
      "needs_background": "light"
     },
     "output_type": "display_data"
    }
   ],
   "source": [
    "fig,ax = plt.subplots(dpi=125)\n",
    "ax.plot(all_gammas,opt_bias,label='OPT')\n",
    "ax.plot(all_gammas,lower_bound, label='Lower')\n",
    "ax.plot(all_gammas,upper_bound, label='Upper')\n",
    "ax.plot(all_gammas,fd_bias_vals, label='FreqD')\n",
    "ax.legend()\n",
    "#ax.set_yscale('log')\n",
    "ax.set_ylim(0.99,1.01)\n",
    "# ax.set_xlim(-0.005,500)\n",
    "ax.set_xlabel('γ')\n",
    "ax.set_ylabel('Bias Squared')"
   ]
  },
  {
   "cell_type": "markdown",
   "metadata": {},
   "source": [
    "Can we also plot the error compared to the true bias?"
   ]
  },
  {
   "cell_type": "code",
   "execution_count": 731,
   "metadata": {},
   "outputs": [
    {
     "data": {
      "image/png": "[encoded data removed]",
      "text/plain": [
       "<Figure size 750x500 with 1 Axes>"
      ]
     },
     "metadata": {
      "needs_background": "light"
     },
     "output_type": "display_data"
    }
   ],
   "source": [
    "fig,ax = plt.subplots(dpi=125)\n",
    "ax.plot(all_gammas,np.abs(opt_bias-fd_bias_vals)/opt_bias,label='Relative Error')\n",
    "ax.set_xlabel('γ')\n",
    "ax.set_yscale('log')\n",
    "#ax.set_xscale('log')"
   ]
  },
  {
   "cell_type": "markdown",
   "metadata": {},
   "source": [
    "## Comparison to Random projections.\n",
    "\n",
    "Let's implement one-pass regression using random projections and compare the bias terms."
   ]
  },
  {
   "cell_type": "code",
   "execution_count": 713,
   "metadata": {},
   "outputs": [],
   "source": [
    "class RPRidge:\n",
    "    def __init__(self,rp_dim:int,rp_mode='Sparse',gamma=1.0):\n",
    "        self.rp_dim       = rp_dim\n",
    "        self.rp_mode      = rp_mode\n",
    "        self.gamma        = gamma\n",
    "        self.is_fitted    = False\n",
    "\n",
    "    def fit_classical(self,X,y):\n",
    "        '''\n",
    "        Fits the ridge regression model on data X with targets y\n",
    "        '''\n",
    "        d = X.shape[1]\n",
    "        data = np.c_[X,y]\n",
    "        S_data = sparse_projection(data,self.rp_dim,sparsity=1)\n",
    "        SX = S_data[:,:-1]\n",
    "        Sy = S_data[:,-1]\n",
    "        H_est = SX.T@SX + self.gamma*np.eye(d)\n",
    "        self.classical_coef_ = np.linalg.solve(H_est,SX.T@Sy)\n",
    "        \n",
    "    def fit_hessian_sketch(self,X,y):\n",
    "        '''\n",
    "        Fits the ridge regression model on data X with targets y\n",
    "        '''\n",
    "        d = X.shape[1]\n",
    "        SX = sparse_projection(X,self.rp_dim,sparsity=1)\n",
    "        H_est = SX.T@SX + self.gamma*np.eye(d)\n",
    "        self.hessian_coef_ = np.linalg.solve(H_est,X.T@y)\n",
    "        "
   ]
  },
  {
   "cell_type": "code",
   "execution_count": 714,
   "metadata": {},
   "outputs": [],
   "source": [
    "gamma = 1024\n",
    "H = X.T@X + gamma*np.eye(d)\n",
    "x_opt = np.linalg.solve(H,X.T@y)\n",
    "#opt_bias = (gamma**2)*np.linalg.norm(np.linalg.pinv(H)@w0)**2"
   ]
  },
  {
   "cell_type": "code",
   "execution_count": 715,
   "metadata": {},
   "outputs": [],
   "source": [
    "rpr = RPRidge(rp_dim=150,gamma=1024)\n",
    "rpr.fit_classical(X,y)\n",
    "rpr.fit_hessian_sketch(X,y)\n",
    "x_ss = rpr.classical_coef_\n",
    "x_hs = rpr.hessian_coef_"
   ]
  },
  {
   "cell_type": "code",
   "execution_count": 711,
   "metadata": {},
   "outputs": [
    {
     "data": {
      "text/plain": [
       "0.4549829252600121"
      ]
     },
     "execution_count": 711,
     "metadata": {},
     "output_type": "execute_result"
    }
   ],
   "source": [
    "np.linalg.norm(x_ss - x_opt)/np.linalg.norm(x_opt)"
   ]
  },
  {
   "cell_type": "code",
   "execution_count": 716,
   "metadata": {},
   "outputs": [
    {
     "data": {
      "text/plain": [
       "1.7008759164127884e-05"
      ]
     },
     "execution_count": 716,
     "metadata": {},
     "output_type": "execute_result"
    }
   ],
   "source": [
    "np.linalg.norm(x_hs - x_opt)/np.linalg.norm(x_opt)"
   ]
  },
  {
   "cell_type": "markdown",
   "metadata": {},
   "source": [
    "### To Do:\n",
    "- Tidy this code and put into separate classes\n",
    "- Refine the experimental section for both bias-variance and iterative method."
   ]
  },
  {
   "cell_type": "code",
   "execution_count": null,
   "metadata": {},
   "outputs": [],
   "source": []
  }
 ],
 "metadata": {
  "kernelspec": {
   "display_name": "Python 3",
   "language": "python",
   "name": "python3"
  },
  "language_info": {
   "codemirror_mode": {
    "name": "ipython",
    "version": 3
   },
   "file_extension": ".py",
   "mimetype": "text/x-python",
   "name": "python",
   "nbconvert_exporter": "python",
   "pygments_lexer": "ipython3",
   "version": "3.7.6"
  }
 },
 "nbformat": 4,
 "nbformat_minor": 4
}
